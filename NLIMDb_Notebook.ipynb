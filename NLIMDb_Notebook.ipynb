{
 "cells": [
  {
   "cell_type": "markdown",
   "metadata": {},
   "source": [
    "# NLIMDb Classifier\n",
    "\n",
    "###### Import the Necessary Libraries"
   ]
  },
  {
   "cell_type": "code",
   "execution_count": 1,
   "metadata": {},
   "outputs": [],
   "source": [
    "import nltk\n",
    "import sqlite3\n",
    "import sklearn\n",
    "import pandas as pd\n",
    "import numpy as np"
   ]
  },
  {
   "cell_type": "markdown",
   "metadata": {},
   "source": [
    "###### Explore the Structure of the Database"
   ]
  },
  {
   "cell_type": "code",
   "execution_count": 2,
   "metadata": {},
   "outputs": [
    {
     "name": "stdout",
     "output_type": "stream",
     "text": [
      "The people table contains 571952 rows\n",
      "Schema: CREATE TABLE people (\n",
      "\tbirthday DATE, \n",
      "\tknown_for_department TEXT NOT NULL, \n",
      "\tdeathday TEXT, \n",
      "\tid INTEGER NOT NULL, \n",
      "\tname TEXT NOT NULL, \n",
      "\tgender INTEGER NOT NULL, \n",
      "\tbiography TEXT NOT NULL, \n",
      "\tpopularity FLOAT NOT NULL, \n",
      "\tplace_of_birth TEXT, \n",
      "\tprofile_path TEXT, \n",
      "\tPRIMARY KEY (id)\n",
      ")\n",
      "\n",
      "\n",
      "The movies table contains 406526 rows\n",
      "Schema: CREATE TABLE movies (\n",
      "\tadult BOOLEAN NOT NULL, \n",
      "\tbackdrop_path TEXT, \n",
      "\tbudget INTEGER NOT NULL, \n",
      "\tid INTEGER NOT NULL, \n",
      "\toverview TEXT, \n",
      "\tpopularity FLOAT NOT NULL, \n",
      "\tposter_path TEXT, \n",
      "\trelease_date DATE, \n",
      "\trevenue INTEGER NOT NULL, \n",
      "\truntime INTEGER, \n",
      "\ttagline TEXT, \n",
      "\ttitle TEXT NOT NULL, \n",
      "\tvote_average FLOAT NOT NULL, \n",
      "\tvote_count INTEGER NOT NULL, \n",
      "\tPRIMARY KEY (id), \n",
      "\tCHECK (adult IN (0, 1))\n",
      ")\n",
      "\n",
      "\n",
      "The movie_series table contains 3012 rows\n",
      "Schema: CREATE TABLE movie_series (\n",
      "\tid INTEGER NOT NULL, \n",
      "\tname TEXT NOT NULL, \n",
      "\toverview TEXT NOT NULL, \n",
      "\tposter_path TEXT, \n",
      "\tbackdrop_path TEXT, \n",
      "\tPRIMARY KEY (id)\n",
      ")\n",
      "\n",
      "\n",
      "The genres table contains 428838 rows\n",
      "Schema: CREATE TABLE genres (\n",
      "\tid INTEGER NOT NULL, \n",
      "\tname TEXT NOT NULL, \n",
      "\tmovie_id INTEGER, \n",
      "\tPRIMARY KEY (id), \n",
      "\tFOREIGN KEY(movie_id) REFERENCES movies (id) ON DELETE CASCADE\n",
      ")\n",
      "\n",
      "\n",
      "The videos table contains 69887 rows\n",
      "Schema: CREATE TABLE videos (\n",
      "\tid TEXT NOT NULL, \n",
      "\t\"key\" TEXT NOT NULL, \n",
      "\tname TEXT NOT NULL, \n",
      "\ttype TEXT, \n",
      "\tmovie_id INTEGER, \n",
      "\tPRIMARY KEY (id), \n",
      "\tFOREIGN KEY(movie_id) REFERENCES movies (id) ON DELETE CASCADE\n",
      ")\n",
      "\n",
      "\n",
      "The cast_in_movie table contains 2024998 rows\n",
      "Schema: CREATE TABLE cast_in_movie (\n",
      "\tcharacter TEXT NOT NULL, \n",
      "\tmovie_id INTEGER, \n",
      "\tperson_id INTEGER, \n",
      "\tFOREIGN KEY(movie_id) REFERENCES movies (id) ON DELETE CASCADE, \n",
      "\tFOREIGN KEY(person_id) REFERENCES people (id) ON DELETE CASCADE\n",
      ")\n",
      "\n",
      "\n",
      "The crew_in_movie table contains 1178445 rows\n",
      "Schema: CREATE TABLE crew_in_movie (\n",
      "\tdepartment TEXT NOT NULL, \n",
      "\tjob TEXT NOT NULL, \n",
      "\tmovie_id INTEGER, \n",
      "\tperson_id INTEGER, \n",
      "\tFOREIGN KEY(movie_id) REFERENCES movies (id) ON DELETE CASCADE, \n",
      "\tFOREIGN KEY(person_id) REFERENCES people (id) ON DELETE CASCADE\n",
      ")\n",
      "\n",
      "\n",
      "The part_of_series table contains 11261 rows\n",
      "Schema: CREATE TABLE part_of_series (\n",
      "\tmovie_series_id INTEGER, \n",
      "\tmovie_id INTEGER, \n",
      "\tFOREIGN KEY(movie_series_id) REFERENCES movie_series (id) ON DELETE CASCADE, \n",
      "\tFOREIGN KEY(movie_id) REFERENCES movies (id) ON DELETE CASCADE\n",
      ")\n",
      "\n",
      "\n"
     ]
    }
   ],
   "source": [
    "# The Database file must be included in the same directory as the notebook\n",
    "\n",
    "# Connects to the database\n",
    "conn = sqlite3.connect('NLIM.db')\n",
    "\n",
    "c = conn.cursor()\n",
    "\n",
    "# Selects all the Tables from the database\n",
    "tables = c.execute('SELECT * FROM sqlite_master where type = \\'table\\';').fetchall()\n",
    "for row in tables:\n",
    "    # Prints the Number of rows in each table\n",
    "    row_count = c.execute('SELECT count(*) FROM {};'.format(row[2])).fetchone()[0]\n",
    "    print('The {} table contains {} rows'.format(row[1], row_count))\n",
    "    \n",
    "    # Prints the Schema for the database\n",
    "    print('Schema: {}'.format(row[4]))\n",
    "    \n",
    "    print('\\n')"
   ]
  },
  {
   "cell_type": "markdown",
   "metadata": {},
   "source": [
    "###### Explore the Collected Queries"
   ]
  },
  {
   "cell_type": "code",
   "execution_count": 3,
   "metadata": {},
   "outputs": [
    {
     "name": "stdout",
     "output_type": "stream",
     "text": [
      "unknown                        13\n",
      "genres-name                    12\n",
      "people-name                    10\n",
      "movies-release-date             7\n",
      "movies-name                     3\n",
      "movies-popularity               3\n",
      "movie-series-name               2\n",
      "people-known-for-department     1\n",
      "person-name                     1\n",
      "movies-length                   1\n",
      "movies-runtime                  1\n",
      "people-gender                   1\n",
      "Name: Class, dtype: int64\n"
     ]
    },
    {
     "data": {
      "text/html": [
       "<div>\n",
       "<style scoped>\n",
       "    .dataframe tbody tr th:only-of-type {\n",
       "        vertical-align: middle;\n",
       "    }\n",
       "\n",
       "    .dataframe tbody tr th {\n",
       "        vertical-align: top;\n",
       "    }\n",
       "\n",
       "    .dataframe thead th {\n",
       "        text-align: right;\n",
       "    }\n",
       "</style>\n",
       "<table border=\"1\" class=\"dataframe\">\n",
       "  <thead>\n",
       "    <tr style=\"text-align: right;\">\n",
       "      <th></th>\n",
       "      <th>Query</th>\n",
       "      <th>Class</th>\n",
       "    </tr>\n",
       "  </thead>\n",
       "  <tbody>\n",
       "    <tr>\n",
       "      <th>0</th>\n",
       "      <td>Movie that will make me cry</td>\n",
       "      <td>genres-name</td>\n",
       "    </tr>\n",
       "    <tr>\n",
       "      <th>1</th>\n",
       "      <td>Short movie with a good story about a fish</td>\n",
       "      <td>movies-runtime</td>\n",
       "    </tr>\n",
       "    <tr>\n",
       "      <th>2</th>\n",
       "      <td>Movie that has theme song let it go</td>\n",
       "      <td>unknown</td>\n",
       "    </tr>\n",
       "    <tr>\n",
       "      <th>3</th>\n",
       "      <td>Movies for a girls night in</td>\n",
       "      <td>unknown</td>\n",
       "    </tr>\n",
       "    <tr>\n",
       "      <th>4</th>\n",
       "      <td>Movies about spies and con artists</td>\n",
       "      <td>genres-name</td>\n",
       "    </tr>\n",
       "    <tr>\n",
       "      <th>5</th>\n",
       "      <td>Movies like Sixteen Candles</td>\n",
       "      <td>movies-name</td>\n",
       "    </tr>\n",
       "    <tr>\n",
       "      <th>6</th>\n",
       "      <td>Classic comedy movies</td>\n",
       "      <td>genres-name</td>\n",
       "    </tr>\n",
       "    <tr>\n",
       "      <th>7</th>\n",
       "      <td>Classic horror films</td>\n",
       "      <td>genres-name</td>\n",
       "    </tr>\n",
       "    <tr>\n",
       "      <th>8</th>\n",
       "      <td>Movie where Dwayne Johnson is climbing a skysc...</td>\n",
       "      <td>unknown</td>\n",
       "    </tr>\n",
       "    <tr>\n",
       "      <th>9</th>\n",
       "      <td>Recently released movies</td>\n",
       "      <td>movies-release-date</td>\n",
       "    </tr>\n",
       "  </tbody>\n",
       "</table>\n",
       "</div>"
      ],
      "text/plain": [
       "                                               Query                Class\n",
       "0                        Movie that will make me cry          genres-name\n",
       "1         Short movie with a good story about a fish       movies-runtime\n",
       "2                Movie that has theme song let it go              unknown\n",
       "3                        Movies for a girls night in              unknown\n",
       "4                 Movies about spies and con artists          genres-name\n",
       "5                        Movies like Sixteen Candles          movies-name\n",
       "6                              Classic comedy movies          genres-name\n",
       "7                               Classic horror films          genres-name\n",
       "8  Movie where Dwayne Johnson is climbing a skysc...              unknown\n",
       "9                           Recently released movies  movies-release-date"
      ]
     },
     "execution_count": 3,
     "metadata": {},
     "output_type": "execute_result"
    }
   ],
   "source": [
    "# Reads the CSV of the queries retrieved from the survery\n",
    "# These queries have been annotated by table-column as classes\n",
    "df = pd.read_csv(\"Movie Search Questionnaire.csv\")\n",
    "\n",
    "# Prints the Frequency counts of the different classes\n",
    "print(df.Class.value_counts())\n",
    "\n",
    "# Prints the first 10 rows\n",
    "df.head(10)"
   ]
  },
  {
   "cell_type": "markdown",
   "metadata": {},
   "source": [
    "###### Preprocess Queries"
   ]
  },
  {
   "cell_type": "code",
   "execution_count": 4,
   "metadata": {},
   "outputs": [
    {
     "name": "stderr",
     "output_type": "stream",
     "text": [
      "[nltk_data] Downloading package punkt to /Users/youssefe/nltk_data...\n",
      "[nltk_data]   Package punkt is already up-to-date!\n",
      "[nltk_data] Downloading package wordnet to\n",
      "[nltk_data]     /Users/youssefe/nltk_data...\n",
      "[nltk_data]   Package wordnet is already up-to-date!\n",
      "[nltk_data] Downloading package averaged_perceptron_tagger to\n",
      "[nltk_data]     /Users/youssefe/nltk_data...\n",
      "[nltk_data]   Package averaged_perceptron_tagger is already up-to-\n",
      "[nltk_data]       date!\n"
     ]
    },
    {
     "data": {
      "text/html": [
       "<div>\n",
       "<style scoped>\n",
       "    .dataframe tbody tr th:only-of-type {\n",
       "        vertical-align: middle;\n",
       "    }\n",
       "\n",
       "    .dataframe tbody tr th {\n",
       "        vertical-align: top;\n",
       "    }\n",
       "\n",
       "    .dataframe thead th {\n",
       "        text-align: right;\n",
       "    }\n",
       "</style>\n",
       "<table border=\"1\" class=\"dataframe\">\n",
       "  <thead>\n",
       "    <tr style=\"text-align: right;\">\n",
       "      <th></th>\n",
       "      <th>Query</th>\n",
       "      <th>Class</th>\n",
       "    </tr>\n",
       "  </thead>\n",
       "  <tbody>\n",
       "    <tr>\n",
       "      <th>0</th>\n",
       "      <td>[movie, that, will, make, me, cry]</td>\n",
       "      <td>genres-name</td>\n",
       "    </tr>\n",
       "    <tr>\n",
       "      <th>1</th>\n",
       "      <td>[short, movie, with, a, good, story, about, a,...</td>\n",
       "      <td>movies-runtime</td>\n",
       "    </tr>\n",
       "    <tr>\n",
       "      <th>2</th>\n",
       "      <td>[movie, that, ha, theme, song, let, it, go]</td>\n",
       "      <td>unknown</td>\n",
       "    </tr>\n",
       "    <tr>\n",
       "      <th>3</th>\n",
       "      <td>[movie, for, a, girl, night, in]</td>\n",
       "      <td>unknown</td>\n",
       "    </tr>\n",
       "    <tr>\n",
       "      <th>4</th>\n",
       "      <td>[movie, about, spy, and, con, artist]</td>\n",
       "      <td>genres-name</td>\n",
       "    </tr>\n",
       "    <tr>\n",
       "      <th>5</th>\n",
       "      <td>[movie, like, sixteen, candle]</td>\n",
       "      <td>movies-name</td>\n",
       "    </tr>\n",
       "    <tr>\n",
       "      <th>6</th>\n",
       "      <td>[classic, comedy, movie]</td>\n",
       "      <td>genres-name</td>\n",
       "    </tr>\n",
       "    <tr>\n",
       "      <th>7</th>\n",
       "      <td>[classic, horror, film]</td>\n",
       "      <td>genres-name</td>\n",
       "    </tr>\n",
       "    <tr>\n",
       "      <th>8</th>\n",
       "      <td>[movie, where, Dwayne, Johnson, is, climbing, ...</td>\n",
       "      <td>unknown</td>\n",
       "    </tr>\n",
       "    <tr>\n",
       "      <th>9</th>\n",
       "      <td>[recently, released, movie]</td>\n",
       "      <td>movies-release-date</td>\n",
       "    </tr>\n",
       "  </tbody>\n",
       "</table>\n",
       "</div>"
      ],
      "text/plain": [
       "                                               Query                Class\n",
       "0                 [movie, that, will, make, me, cry]          genres-name\n",
       "1  [short, movie, with, a, good, story, about, a,...       movies-runtime\n",
       "2        [movie, that, ha, theme, song, let, it, go]              unknown\n",
       "3                   [movie, for, a, girl, night, in]              unknown\n",
       "4              [movie, about, spy, and, con, artist]          genres-name\n",
       "5                     [movie, like, sixteen, candle]          movies-name\n",
       "6                           [classic, comedy, movie]          genres-name\n",
       "7                            [classic, horror, film]          genres-name\n",
       "8  [movie, where, Dwayne, Johnson, is, climbing, ...              unknown\n",
       "9                        [recently, released, movie]  movies-release-date"
      ]
     },
     "execution_count": 4,
     "metadata": {},
     "output_type": "execute_result"
    }
   ],
   "source": [
    "nltk.download('punkt')\n",
    "nltk.download('wordnet')\n",
    "nltk.download('averaged_perceptron_tagger')\n",
    "\n",
    "from nltk import word_tokenize\n",
    "from nltk.stem.wordnet import WordNetLemmatizer\n",
    "from nltk.tag import StanfordNERTagger\n",
    "\n",
    "# Initializes the Word Net Lemmatizer\n",
    "wnl = nltk.WordNetLemmatizer()\n",
    "\n",
    "# Initializes the Stanford NER Tagger\n",
    "# requires for the files described below to be in the same directory as the notebook\n",
    "st = StanfordNERTagger('stanford-ner-2018-10-16/classifiers/english.muc.7class.distsim.crf.ser.gz',\n",
    "                       'stanford-ner-2018-10-16/stanford-ner.jar',\n",
    "                       encoding='utf-8')\n",
    "\n",
    "    \n",
    "# The Stanford Named Entitry Recognizer's performance suffers from turning all the text to lower case\n",
    "# Thus we run it first and lowercase any unrecongnized entities\n",
    "df['Query'] = df['Query'].apply(lambda x: [t[0].lower() if t[1] == 'O' else t[0] for t in st.tag(word_tokenize(x))])\n",
    "    \n",
    "df['Query'] = df['Query'].apply(lambda x: [wnl.lemmatize(t) for t in x])\n",
    "    \n",
    "df.head(10)"
   ]
  },
  {
   "cell_type": "markdown",
   "metadata": {},
   "source": [
    "#### Explore Classification Methods\n",
    "\n",
    "###### Naive Bayes"
   ]
  },
  {
   "cell_type": "code",
   "execution_count": 5,
   "metadata": {},
   "outputs": [],
   "source": [
    "from sklearn.feature_extraction.text import CountVectorizer\n",
    "from sklearn.feature_extraction.text import TfidfTransformer\n",
    "from sklearn.model_selection import train_test_split\n",
    "from sklearn.naive_bayes import MultinomialNB\n",
    "\n",
    "# This converts the list of words back into space-separated strings\n",
    "df['Query'] = df['Query'].apply(lambda x: ' '.join(x))"
   ]
  },
  {
   "cell_type": "code",
   "execution_count": 6,
   "metadata": {},
   "outputs": [
    {
     "name": "stdout",
     "output_type": "stream",
     "text": [
      "0.16666666666666666\n"
     ]
    }
   ],
   "source": [
    "# Frequency counts of words\n",
    "count_vect = CountVectorizer()  \n",
    "counts = count_vect.fit_transform(df['Query']) \n",
    "\n",
    "# Transforms count into tf-idf\n",
    "transformer = TfidfTransformer().fit(counts)\n",
    "counts = transformer.transform(counts)\n",
    "\n",
    "X_train, X_test, y_train, y_test = train_test_split(counts, df['Class'], test_size=0.1)\n",
    "\n",
    "model = MultinomialNB().fit(X_train, y_train)\n",
    "    \n",
    "predicted = model.predict(X_test)\n",
    "\n",
    "print(np.mean(predicted == y_test))"
   ]
  },
  {
   "cell_type": "markdown",
   "metadata": {},
   "source": [
    "###### Naive Bayes with Stop Words Removed"
   ]
  },
  {
   "cell_type": "code",
   "execution_count": 7,
   "metadata": {},
   "outputs": [
    {
     "name": "stdout",
     "output_type": "stream",
     "text": [
      "0.5\n"
     ]
    }
   ],
   "source": [
    "from nltk.corpus import stopwords\n",
    "\n",
    "stop_words = set(stopwords.words('english'))\n",
    "\n",
    "# Make a copy of the dataframe and remove the stopwords\n",
    "df_sw = df.copy(True)\n",
    "df_sw['Query'] = df_sw['Query'].apply(lambda x: ' '.join([t for t in word_tokenize(x) if t not in stop_words]))\n",
    "\n",
    "# Frequency counts of words\n",
    "count_vect = CountVectorizer()  \n",
    "counts = count_vect.fit_transform(df_sw['Query']) \n",
    "\n",
    "# Transforms count into tf-idf\n",
    "transformer = TfidfTransformer().fit(counts)\n",
    "counts = transformer.transform(counts)\n",
    "\n",
    "X_train, X_test, y_train, y_test = train_test_split(counts, df_sw['Class'], test_size=0.1)\n",
    "\n",
    "model = MultinomialNB().fit(X_train, y_train)\n",
    "        \n",
    "predicted = model.predict(X_test)\n",
    "\n",
    "print(np.mean(predicted == y_test))"
   ]
  },
  {
   "cell_type": "markdown",
   "metadata": {},
   "source": [
    "###### Support Vector Machine"
   ]
  },
  {
   "cell_type": "code",
   "execution_count": 19,
   "metadata": {},
   "outputs": [
    {
     "name": "stdout",
     "output_type": "stream",
     "text": [
      "0.5\n"
     ]
    }
   ],
   "source": [
    "from sklearn.linear_model import SGDClassifier\n",
    "\n",
    "# Frequency counts of words\n",
    "count_vect = CountVectorizer()  \n",
    "counts = count_vect.fit_transform(df['Query']) \n",
    "\n",
    "# Transforms count into tf-idf\n",
    "transformer = TfidfTransformer().fit(counts)\n",
    "counts = transformer.transform(counts)\n",
    "\n",
    "X_train, X_test, y_train, y_test = train_test_split(counts, df['Class'], test_size=0.1)\n",
    "\n",
    "model = SGDClassifier().fit(X_train, y_train)\n",
    "    \n",
    "predicted = model.predict(X_test)\n",
    "\n",
    "print(np.mean(predicted == y_test))"
   ]
  }
 ],
 "metadata": {
  "kernelspec": {
   "display_name": "Python 3",
   "language": "python",
   "name": "python3"
  },
  "language_info": {
   "codemirror_mode": {
    "name": "ipython",
    "version": 3
   },
   "file_extension": ".py",
   "mimetype": "text/x-python",
   "name": "python",
   "nbconvert_exporter": "python",
   "pygments_lexer": "ipython3",
   "version": "3.7.0"
  }
 },
 "nbformat": 4,
 "nbformat_minor": 2
}
